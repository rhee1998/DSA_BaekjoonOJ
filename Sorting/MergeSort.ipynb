{
 "cells": [
  {
   "cell_type": "markdown",
   "metadata": {},
   "source": [
    "### **Merge Sort** : Worst Case $\\cal{O}$ $(N \\log N)$"
   ]
  },
  {
   "cell_type": "markdown",
   "metadata": {},
   "source": [
    "##### **1. Simple Merge Sort**"
   ]
  },
  {
   "cell_type": "markdown",
   "metadata": {},
   "source": [
    "`def mSort(A)`\n",
    "* Input(s)\n",
    "    * `A` : array to sort\n",
    "* Output(s)\n",
    "    * `R` : Sorted array"
   ]
  },
  {
   "cell_type": "code",
   "execution_count": null,
   "metadata": {},
   "outputs": [],
   "source": [
    "def MergeSort(A):\n",
    "    L = len(A)\n",
    "    if L <= 1: return A\n",
    "\n",
    "    F, B = MergeSort(A[:L//2]), MergeSort(A[L//2:])\n",
    "    fidx, bidx, R = 0, 0, []\n",
    "\n",
    "    while fidx < L//2 and bidx < L - L//2:\n",
    "        if F[fidx] < B[bidx]:\n",
    "            R.append(F[fidx])\n",
    "            fidx += 1\n",
    "        else:\n",
    "            R.append(B[bidx])\n",
    "            bidx += 1\n",
    "    \n",
    "    R += F[fidx:] + B[bidx:]\n",
    "    return R"
   ]
  },
  {
   "cell_type": "markdown",
   "metadata": {},
   "source": [
    "##### **2. Generalized Merge Sort**"
   ]
  },
  {
   "cell_type": "markdown",
   "metadata": {},
   "source": [
    "`def Compare(x, y)`\n",
    "* Input(s)\n",
    "    * `x` & `y` : tuples or lists to compare\n",
    "* Output(s)\n",
    "    * `True` if `x` is in front of or equal to `y`, otherwise `False`\n",
    "\n",
    "<br>\n",
    "\n",
    "`def GeneralizedMergeSort(A)`\n",
    "* Input(s)\n",
    "    * `A` : array to sort\n",
    "* Output(s)\n",
    "    * `R` : Sorted array"
   ]
  },
  {
   "cell_type": "code",
   "execution_count": null,
   "metadata": {},
   "outputs": [],
   "source": [
    "def Compare(x, y):\n",
    "    idx = 0\n",
    "    while idx < len(x):\n",
    "        if x[idx] < y[idx]: return True\n",
    "        elif x[idx] > y[idx]: return False\n",
    "        else: idx += 1\n",
    "    return True\n",
    "\n",
    "def GeneralizedMergeSort(A):\n",
    "    L = len(A)\n",
    "    if L <= 1: return A\n",
    "\n",
    "    F = GeneralizedMergeSort(A[:L//2])\n",
    "    B = GeneralizedMergeSort(A[L//2:])\n",
    "    fidx, bidx, R = 0, 0, []\n",
    "\n",
    "    while fidx < L//2 and bidx <= L - L//2:\n",
    "        if Compare(F[fidx], B[bidx]):\n",
    "            R.append(F[fidx]); fidx += 1\n",
    "        else:\n",
    "            R.append(B[bidx]); bidx += 1\n",
    "    \n",
    "    R += F[fidx:] + B[bidx:]\n",
    "    return R"
   ]
  }
 ],
 "metadata": {
  "language_info": {
   "name": "python"
  }
 },
 "nbformat": 4,
 "nbformat_minor": 2
}
