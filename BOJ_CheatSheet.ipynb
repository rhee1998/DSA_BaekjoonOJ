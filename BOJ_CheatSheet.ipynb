{
 "cells": [
  {
   "cell_type": "markdown",
   "metadata": {},
   "source": [
    "## **Sorting Algorithms**"
   ]
  },
  {
   "cell_type": "markdown",
   "metadata": {},
   "source": [
    "##### **Merge Sort** : Worst Case $\\cal{O}$ $(N \\log N)$"
   ]
  },
  {
   "cell_type": "markdown",
   "metadata": {},
   "source": [
    "`def mSort(A)`\n",
    "* Input(s)\n",
    "    * `A` : array to sort\n",
    "* Output(s)\n",
    "    * `R` : Sorted array"
   ]
  },
  {
   "cell_type": "code",
   "execution_count": null,
   "metadata": {},
   "outputs": [],
   "source": [
    "def mSort(A):\n",
    "    L = len(A)\n",
    "    if L <= 1: return A\n",
    "\n",
    "    F, B = mSort(A[:L//2]), mSort(A[L//2:])\n",
    "    fidx, bidx, R = 0, 0, []\n",
    "\n",
    "    while fidx < L//2 and bidx < L - L//2:\n",
    "        if F[fidx] < B[bidx]:\n",
    "            R.append(F[fidx])\n",
    "            fidx += 1\n",
    "        else:\n",
    "            R.append(B[bidx])\n",
    "            bidx += 1\n",
    "    \n",
    "    R += F[fidx:] + B[bidx:]\n",
    "    return R"
   ]
  },
  {
   "cell_type": "markdown",
   "metadata": {},
   "source": [
    "`def cmp(x, y)`\n",
    "* Input(s)\n",
    "    * `x` & `y` : tuples or lists to compare\n",
    "* Output(s)\n",
    "    * `True` if `x` is in front of or equal to `y`, otherwise `False`\n",
    "\n",
    "<br>\n",
    "\n",
    "`def g_mSort(A)`\n",
    "* Input(s)\n",
    "    * `A` : array to sort\n",
    "* Output(s)\n",
    "    * `R` : Sorted array"
   ]
  },
  {
   "cell_type": "code",
   "execution_count": null,
   "metadata": {},
   "outputs": [],
   "source": [
    "def cmp(x, y):\n",
    "    idx = 0\n",
    "    while idx < len(x):\n",
    "        if x[idx] < y[idx]: return True\n",
    "        elif x[idx] > y[idx]: return False\n",
    "        else: idx += 1\n",
    "    return True\n",
    "\n",
    "def g_mSort(A):\n",
    "    L = len(A)\n",
    "    if L <= 1: return A\n",
    "\n",
    "    F, B = g_mSort(A[:L//2]), g_mSort(A[L//2:])\n",
    "    fidx, bidx, R = 0, 0, []\n",
    "\n",
    "    while fidx < L//2 and bidx <= L - L//2:\n",
    "        if cmp(F[fidx], B[bidx]):\n",
    "            R.append(F[fidx])\n",
    "            fidx += 1\n",
    "        else:\n",
    "            R.append(B[bidx])\n",
    "            bidx += 1\n",
    "    \n",
    "    R += F[fidx:] + B[bidx:]\n",
    "    return R"
   ]
  },
  {
   "cell_type": "markdown",
   "metadata": {},
   "source": [
    "## **Graphs**"
   ]
  },
  {
   "cell_type": "markdown",
   "metadata": {},
   "source": [
    "##### **Dijkstra's Algorithm** : Worst case $\\cal{O}$ $((V + E) \\log V)$"
   ]
  },
  {
   "cell_type": "markdown",
   "metadata": {},
   "source": [
    "`dijkstra(start, N, G, INF=10**30)`\n",
    "* Input(s)\n",
    "    * `start` : starting node ID\n",
    "    * `N (int)` : number of nodes\n",
    "    * `G (dict)` : \"`a`->`b` at cost `c`\" encoded as `G[a].append((b, c))`\n",
    "* Output(s)\n",
    "    * `dists (list)` : list of <u>minimum distance</u> to each node"
   ]
  },
  {
   "cell_type": "code",
   "execution_count": null,
   "metadata": {},
   "outputs": [],
   "source": [
    "import heapq\n",
    "\n",
    "def dijkstra(start, N, G, INF=10**30):\n",
    "    # Initialize PQ\n",
    "    que = []\n",
    "    heapq.heappush(que, (0, start))\n",
    "\n",
    "    # Initialize result\n",
    "    dists = [INF for _ in range(N)]\n",
    "    dists[start] = 0\n",
    "\n",
    "    # Iterate over PQ\n",
    "    while que:\n",
    "        cost, curr = heapq.heappop(que)\n",
    "        if dists[curr] < cost: continue\n",
    "        for next, dist in G[curr]:\n",
    "            tmp = cost + dist\n",
    "            if tmp < dists[next]:\n",
    "                dists[next] = tmp\n",
    "                heapq.heappush(que, (dists[next], next))\n",
    "    \n",
    "    return dists"
   ]
  },
  {
   "cell_type": "markdown",
   "metadata": {},
   "source": [
    "`dijkstra_path(start, N, G, INF=10**30)`\n",
    "* Input(s)\n",
    "    * `start` : starting node ID\n",
    "    * `N (int)` : number of nodes\n",
    "    * `G (dict)` : \"`a`->`b` at cost `c`\" encoded as `G[a].append((b, c))`\n",
    "* Output(s)\n",
    "    * `dists (list)` : list of <u>minimum distance</u> to each node\n",
    "    * `paths (list)` : list of <u>one of minimum distance paths</u> to each node"
   ]
  },
  {
   "cell_type": "code",
   "execution_count": null,
   "metadata": {},
   "outputs": [],
   "source": [
    "import heapq\n",
    "\n",
    "def dijkstra_path(start, N, G, INF=10**30):\n",
    "    # Initialize PQ\n",
    "    que = []\n",
    "    heapq.heappush(que, (0, start, [start]))\n",
    "\n",
    "    # Initialize result\n",
    "    dists = [INF for _ in range(N)]\n",
    "    paths = [[] for _ in range(N)]\n",
    "\n",
    "    dists[start], paths[start] = 0, [start]\n",
    "\n",
    "    # Iterate over PQ\n",
    "    while que:\n",
    "        cost, curr, path = heapq.heappop(que)\n",
    "        if dists[curr] < cost: continue\n",
    "        for next, dist in G[curr]:\n",
    "            tmp = cost + dist\n",
    "            if tmp < dists[next]:\n",
    "                dists[next] = tmp\n",
    "                paths[next] = path + [next]\n",
    "                heapq.heappush(que, (dists[next], next, paths[next]))\n",
    "    \n",
    "    return dists, paths"
   ]
  },
  {
   "cell_type": "markdown",
   "metadata": {},
   "source": []
  }
 ],
 "metadata": {
  "language_info": {
   "name": "python"
  }
 },
 "nbformat": 4,
 "nbformat_minor": 2
}
